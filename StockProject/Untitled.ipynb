{
 "cells": [
  {
   "cell_type": "code",
   "execution_count": null,
   "id": "c3e93602",
   "metadata": {},
   "outputs": [],
   "source": [
    "people = {\n",
    "    'first': ['Sean','Jane','John'],\n",
    "    'last': ['Connor','Doe','Doe'],\n",
    "    'email':[\"seanconnor@gmail.com\",\"janedoe@gmail.com\",\"johndoe@gmail.com\"]\n",
    "}"
   ]
  }
 ],
 "metadata": {
  "kernelspec": {
   "display_name": "Python 3",
   "language": "python",
   "name": "python3"
  },
  "language_info": {
   "codemirror_mode": {
    "name": "ipython",
    "version": 3
   },
   "file_extension": ".py",
   "mimetype": "text/x-python",
   "name": "python",
   "nbconvert_exporter": "python",
   "pygments_lexer": "ipython3",
   "version": "3.8.8"
  }
 },
 "nbformat": 4,
 "nbformat_minor": 5
}
